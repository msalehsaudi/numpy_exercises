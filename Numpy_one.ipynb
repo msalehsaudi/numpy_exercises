{
 "cells": [
  {
   "cell_type": "code",
   "execution_count": 1,
   "metadata": {},
   "outputs": [],
   "source": [
    "import numpy as np"
   ]
  },
  {
   "cell_type": "code",
   "execution_count": 2,
   "metadata": {},
   "outputs": [],
   "source": [
    "array_a = np.array([1,2,3])"
   ]
  },
  {
   "cell_type": "code",
   "execution_count": 3,
   "metadata": {},
   "outputs": [
    {
     "name": "stdout",
     "output_type": "stream",
     "text": [
      "[1 2 3]\n"
     ]
    }
   ],
   "source": [
    "array_a\n",
    "print(array_a)"
   ]
  },
  {
   "cell_type": "code",
   "execution_count": 4,
   "metadata": {},
   "outputs": [
    {
     "data": {
      "text/plain": [
       "(3,)"
      ]
     },
     "execution_count": 4,
     "metadata": {},
     "output_type": "execute_result"
    }
   ],
   "source": [
    "type(array_a)\n",
    "array_a.shape"
   ]
  },
  {
   "cell_type": "markdown",
   "metadata": {},
   "source": [
    "Matrix array"
   ]
  },
  {
   "cell_type": "code",
   "execution_count": 5,
   "metadata": {},
   "outputs": [],
   "source": [
    "array_b = np.array([[1,2,3],[4,5,6]])"
   ]
  },
  {
   "cell_type": "code",
   "execution_count": 6,
   "metadata": {},
   "outputs": [
    {
     "data": {
      "text/plain": [
       "array([[1, 2, 3],\n",
       "       [4, 5, 6]])"
      ]
     },
     "execution_count": 6,
     "metadata": {},
     "output_type": "execute_result"
    }
   ],
   "source": [
    "array_b"
   ]
  },
  {
   "cell_type": "code",
   "execution_count": 7,
   "metadata": {},
   "outputs": [
    {
     "data": {
      "text/plain": [
       "array([4, 5, 6])"
      ]
     },
     "execution_count": 7,
     "metadata": {},
     "output_type": "execute_result"
    }
   ],
   "source": [
    "array_b[1]"
   ]
  },
  {
   "cell_type": "markdown",
   "metadata": {},
   "source": [
    "Scalar"
   ]
  },
  {
   "cell_type": "code",
   "execution_count": 8,
   "metadata": {},
   "outputs": [],
   "source": [
    "array_c = np.array(13)"
   ]
  },
  {
   "cell_type": "markdown",
   "metadata": {},
   "source": [
    "Arrays vs lists:"
   ]
  },
  {
   "cell_type": "code",
   "execution_count": 9,
   "metadata": {},
   "outputs": [],
   "source": [
    "list_a = [[1,2,3],[4,5,6]]\n"
   ]
  },
  {
   "cell_type": "code",
   "execution_count": 10,
   "metadata": {},
   "outputs": [
    {
     "data": {
      "text/plain": [
       "2"
      ]
     },
     "execution_count": 10,
     "metadata": {},
     "output_type": "execute_result"
    }
   ],
   "source": [
    "len(list_a)"
   ]
  },
  {
   "cell_type": "code",
   "execution_count": 11,
   "metadata": {},
   "outputs": [],
   "source": [
    "array_a = np.array(list_a)"
   ]
  },
  {
   "cell_type": "code",
   "execution_count": 12,
   "metadata": {},
   "outputs": [
    {
     "data": {
      "text/plain": [
       "(numpy.ndarray, list)"
      ]
     },
     "execution_count": 12,
     "metadata": {},
     "output_type": "execute_result"
    }
   ],
   "source": [
    "type(array_a), type(list_a)"
   ]
  },
  {
   "cell_type": "code",
   "execution_count": 13,
   "metadata": {},
   "outputs": [
    {
     "name": "stdout",
     "output_type": "stream",
     "text": [
      "[[1 2 3]\n",
      " [4 5 6]]\n",
      "[[1, 2, 3], [4, 5, 6]]\n"
     ]
    },
    {
     "data": {
      "text/plain": [
       "(None, None)"
      ]
     },
     "execution_count": 13,
     "metadata": {},
     "output_type": "execute_result"
    }
   ],
   "source": [
    "print(array_a), print(list_a)"
   ]
  },
  {
   "cell_type": "code",
   "execution_count": 14,
   "metadata": {},
   "outputs": [
    {
     "data": {
      "text/plain": [
       "((2, 3), 3)"
      ]
     },
     "execution_count": 14,
     "metadata": {},
     "output_type": "execute_result"
    }
   ],
   "source": [
    "array_a.shape, len(list_a[0])"
   ]
  },
  {
   "cell_type": "code",
   "execution_count": 15,
   "metadata": {},
   "outputs": [],
   "source": [
    "list_b = list_a[0] + list_a[1]\n",
    "array_b = array_a[0] + array_a[1]"
   ]
  },
  {
   "cell_type": "code",
   "execution_count": 16,
   "metadata": {},
   "outputs": [
    {
     "name": "stdout",
     "output_type": "stream",
     "text": [
      "[1, 2, 3, 4, 5, 6] [5 7 9]\n"
     ]
    }
   ],
   "source": [
    "print(list_b, array_b)"
   ]
  },
  {
   "cell_type": "code",
   "execution_count": 17,
   "metadata": {},
   "outputs": [
    {
     "name": "stdout",
     "output_type": "stream",
     "text": [
      "2.0\n"
     ]
    }
   ],
   "source": [
    "import math\n",
    "\n",
    "array_e = math.sqrt(array_a[1,0])\n",
    "print(array_e)"
   ]
  },
  {
   "cell_type": "code",
   "execution_count": 18,
   "metadata": {},
   "outputs": [
    {
     "data": {
      "text/plain": [
       "array([[1.        , 1.41421356, 1.73205081],\n",
       "       [2.        , 2.23606798, 2.44948974]])"
      ]
     },
     "execution_count": 18,
     "metadata": {},
     "output_type": "execute_result"
    }
   ],
   "source": [
    "np.sqrt(array_a)"
   ]
  },
  {
   "cell_type": "markdown",
   "metadata": {},
   "source": [
    "# NumPy Fundmentals: \n",
    "## Indexing:"
   ]
  },
  {
   "cell_type": "code",
   "execution_count": 19,
   "metadata": {},
   "outputs": [],
   "source": [
    "array_a = np.array([[1,2,3], [4,5,6]])"
   ]
  },
  {
   "cell_type": "markdown",
   "metadata": {},
   "source": [
    "## Specific values:"
   ]
  },
  {
   "cell_type": "code",
   "execution_count": 20,
   "metadata": {},
   "outputs": [
    {
     "data": {
      "text/plain": [
       "(array([1, 2, 3]), array([4, 5, 6]), 4, array([1, 4]))"
      ]
     },
     "execution_count": 20,
     "metadata": {},
     "output_type": "execute_result"
    }
   ],
   "source": [
    "array_a[0], array_a[1], array_a[1,0], array_a[:, 0]"
   ]
  },
  {
   "cell_type": "markdown",
   "metadata": {},
   "source": [
    "## Negative indices:"
   ]
  },
  {
   "cell_type": "code",
   "execution_count": 21,
   "metadata": {},
   "outputs": [
    {
     "data": {
      "text/plain": [
       "3"
      ]
     },
     "execution_count": 21,
     "metadata": {},
     "output_type": "execute_result"
    }
   ],
   "source": [
    "array_b = np.array([1,2,3])\n",
    "array_b[-1]"
   ]
  },
  {
   "cell_type": "markdown",
   "metadata": {},
   "source": [
    "## Assigning Values:"
   ]
  },
  {
   "cell_type": "code",
   "execution_count": 22,
   "metadata": {},
   "outputs": [
    {
     "data": {
      "text/plain": [
       "array([[1, 2, 9],\n",
       "       [4, 5, 6]])"
      ]
     },
     "execution_count": 22,
     "metadata": {},
     "output_type": "execute_result"
    }
   ],
   "source": [
    "array_a[0,2] = 9\n",
    "array_a"
   ]
  },
  {
   "cell_type": "code",
   "execution_count": 23,
   "metadata": {},
   "outputs": [
    {
     "data": {
      "text/plain": [
       "array([[2, 2, 2],\n",
       "       [4, 5, 6]])"
      ]
     },
     "execution_count": 23,
     "metadata": {},
     "output_type": "execute_result"
    }
   ],
   "source": [
    "array_a[0] = 2\n",
    "array_a"
   ]
  },
  {
   "cell_type": "code",
   "execution_count": 24,
   "metadata": {},
   "outputs": [
    {
     "name": "stdout",
     "output_type": "stream",
     "text": [
      "[[8 7 8]\n",
      " [4 5 6]] <class 'numpy.ndarray'>\n"
     ]
    }
   ],
   "source": [
    "list_a = [8,7,8]\n",
    "array_a[0] = list_a\n",
    "\n",
    "print(array_a, type(array_a))"
   ]
  },
  {
   "cell_type": "code",
   "execution_count": 25,
   "metadata": {},
   "outputs": [
    {
     "data": {
      "text/plain": [
       "array([[9, 9, 9],\n",
       "       [9, 9, 9]])"
      ]
     },
     "execution_count": 25,
     "metadata": {},
     "output_type": "execute_result"
    }
   ],
   "source": [
    "array_a [:] = 9\n",
    "array_a"
   ]
  },
  {
   "cell_type": "code",
   "execution_count": 26,
   "metadata": {},
   "outputs": [],
   "source": [
    "array_a =  np.array([7,8,9])\n",
    "array_b = np.array([[1,2,3], [4,5,6]])"
   ]
  },
  {
   "cell_type": "code",
   "execution_count": 27,
   "metadata": {},
   "outputs": [
    {
     "data": {
      "text/plain": [
       "array([[3, 4, 5],\n",
       "       [6, 7, 8]])"
      ]
     },
     "execution_count": 27,
     "metadata": {},
     "output_type": "execute_result"
    }
   ],
   "source": [
    "array_b + 2"
   ]
  },
  {
   "cell_type": "code",
   "execution_count": 28,
   "metadata": {},
   "outputs": [
    {
     "data": {
      "text/plain": [
       "[1, 2, 3, 4]"
      ]
     },
     "execution_count": 28,
     "metadata": {},
     "output_type": "execute_result"
    }
   ],
   "source": [
    "list_a = [1,2,3]\n",
    "list_a + [4]"
   ]
  },
  {
   "cell_type": "code",
   "execution_count": 29,
   "metadata": {},
   "outputs": [
    {
     "data": {
      "text/plain": [
       "array([ 8, 10, 12])"
      ]
     },
     "execution_count": 29,
     "metadata": {},
     "output_type": "execute_result"
    }
   ],
   "source": [
    "array_a + array_b[0]"
   ]
  },
  {
   "cell_type": "code",
   "execution_count": 30,
   "metadata": {},
   "outputs": [
    {
     "data": {
      "text/plain": [
       "array([[ 8, 10, 12],\n",
       "       [11, 13, 15]])"
      ]
     },
     "execution_count": 30,
     "metadata": {},
     "output_type": "execute_result"
    }
   ],
   "source": [
    "array_a + array_b"
   ]
  },
  {
   "cell_type": "markdown",
   "metadata": {},
   "source": [
    "## Types of data supported by NumPy"
   ]
  },
  {
   "cell_type": "code",
   "execution_count": 31,
   "metadata": {},
   "outputs": [
    {
     "data": {
      "text/plain": [
       "array([[  1,   2,   3],\n",
       "       [  4, 184,   6]], dtype=uint8)"
      ]
     },
     "execution_count": 31,
     "metadata": {},
     "output_type": "execute_result"
    }
   ],
   "source": [
    "array_a = np.array([[1,2,3],[4,3000,6]], dtype='uint8')\n",
    "array_a"
   ]
  },
  {
   "cell_type": "code",
   "execution_count": 32,
   "metadata": {},
   "outputs": [
    {
     "data": {
      "text/plain": [
       "array([[ True,  True,  True],\n",
       "       [ True,  True, False]])"
      ]
     },
     "execution_count": 32,
     "metadata": {},
     "output_type": "execute_result"
    }
   ],
   "source": [
    "array_a = np.array([[1,2,3],[4,3000,6]], dtype='complex64')\n",
    "array_a = np.array([[1,2,3],[4,3000,0]], dtype='bool')\n",
    "array_a"
   ]
  },
  {
   "cell_type": "code",
   "execution_count": 33,
   "metadata": {},
   "outputs": [
    {
     "data": {
      "text/plain": [
       "array([['1', '2', '3'],\n",
       "       ['4', '3000', '0']], dtype='<U4')"
      ]
     },
     "execution_count": 33,
     "metadata": {},
     "output_type": "execute_result"
    }
   ],
   "source": [
    "array_a = np.array([[1,2,3],[4,3000,0]], dtype='str')\n",
    "array_a"
   ]
  },
  {
   "cell_type": "markdown",
   "metadata": {},
   "source": [
    "# Broadcasting:\n"
   ]
  },
  {
   "cell_type": "code",
   "execution_count": 34,
   "metadata": {},
   "outputs": [],
   "source": [
    "array_a = np.array([1,2,3])\n",
    "array_b = np.array([[1], [2]])\n",
    "matrix_c = np.array([[1,2,3], [4,5,6]])"
   ]
  },
  {
   "cell_type": "code",
   "execution_count": 35,
   "metadata": {},
   "outputs": [
    {
     "data": {
      "text/plain": [
       "array([[2, 4, 6],\n",
       "       [5, 7, 9]])"
      ]
     },
     "execution_count": 35,
     "metadata": {},
     "output_type": "execute_result"
    }
   ],
   "source": [
    "np.add(array_a, matrix_c)"
   ]
  },
  {
   "cell_type": "code",
   "execution_count": 36,
   "metadata": {},
   "outputs": [
    {
     "data": {
      "text/plain": [
       "array([[2, 3, 4],\n",
       "       [6, 7, 8]])"
      ]
     },
     "execution_count": 36,
     "metadata": {},
     "output_type": "execute_result"
    }
   ],
   "source": [
    "np.add(array_b, matrix_c)"
   ]
  },
  {
   "cell_type": "markdown",
   "metadata": {},
   "source": [
    "## Type casting:\n"
   ]
  },
  {
   "cell_type": "code",
   "execution_count": 37,
   "metadata": {},
   "outputs": [
    {
     "data": {
      "text/plain": [
       "array([[2., 3., 4.],\n",
       "       [6., 7., 8.]])"
      ]
     },
     "execution_count": 37,
     "metadata": {},
     "output_type": "execute_result"
    }
   ],
   "source": [
    "np.add(array_b, matrix_c, dtype = 'float64')"
   ]
  },
  {
   "cell_type": "markdown",
   "metadata": {},
   "source": [
    "## Running over an Axis:"
   ]
  },
  {
   "cell_type": "code",
   "execution_count": 38,
   "metadata": {},
   "outputs": [
    {
     "data": {
      "text/plain": [
       "(array([2.5, 3.5, 4.5]), array([2., 5.]))"
      ]
     },
     "execution_count": 38,
     "metadata": {},
     "output_type": "execute_result"
    }
   ],
   "source": [
    "np.mean(matrix_c, axis = 0 ), np.mean(matrix_c, axis = 1 )"
   ]
  },
  {
   "cell_type": "code",
   "execution_count": 39,
   "metadata": {},
   "outputs": [
    {
     "data": {
      "text/plain": [
       "array([[1, 2, 3],\n",
       "       [4, 5, 6]])"
      ]
     },
     "execution_count": 39,
     "metadata": {},
     "output_type": "execute_result"
    }
   ],
   "source": [
    "matrix_c"
   ]
  },
  {
   "cell_type": "markdown",
   "metadata": {},
   "source": [
    "# Slicing: "
   ]
  },
  {
   "cell_type": "code",
   "execution_count": 40,
   "metadata": {},
   "outputs": [
    {
     "data": {
      "text/plain": [
       "array([[1, 2, 3],\n",
       "       [4, 5, 6]])"
      ]
     },
     "execution_count": 40,
     "metadata": {},
     "output_type": "execute_result"
    }
   ],
   "source": [
    "matrix_A = np.array([[1,2,3], [4,5,6]])\n",
    "matrix_A"
   ]
  },
  {
   "cell_type": "markdown",
   "metadata": {},
   "source": [
    "## Basic Slicing:"
   ]
  },
  {
   "cell_type": "code",
   "execution_count": 41,
   "metadata": {},
   "outputs": [
    {
     "data": {
      "text/plain": [
       "array([], shape=(0, 3), dtype=int32)"
      ]
     },
     "execution_count": 41,
     "metadata": {},
     "output_type": "execute_result"
    }
   ],
   "source": [
    "matrix_A [3:]"
   ]
  },
  {
   "cell_type": "markdown",
   "metadata": {},
   "source": [
    "## Stepwise slicing:"
   ]
  },
  {
   "cell_type": "code",
   "execution_count": 42,
   "metadata": {},
   "outputs": [
    {
     "data": {
      "text/plain": [
       "array([[ 1,  1,  2,  3,  1],\n",
       "       [ 1, 31,  4,  3,  3]])"
      ]
     },
     "execution_count": 42,
     "metadata": {},
     "output_type": "execute_result"
    }
   ],
   "source": [
    "matrix_b = np.array([[1,1,2,3,1], [1,1,6,3,7], [1,31,4,3,3]])\n",
    "matrix_b[::2, ::]"
   ]
  },
  {
   "cell_type": "markdown",
   "metadata": {},
   "source": [
    "## Conditional slicing"
   ]
  },
  {
   "cell_type": "code",
   "execution_count": 43,
   "metadata": {},
   "outputs": [
    {
     "data": {
      "text/plain": [
       "array([1, 5, 6])"
      ]
     },
     "execution_count": 43,
     "metadata": {},
     "output_type": "execute_result"
    }
   ],
   "source": [
    "matrix_C = np.array([[1,1,2,3,1], [5,1,6,3,7], [6,31,4,3,3]])\n",
    "matrix_C[:, 0]"
   ]
  },
  {
   "cell_type": "code",
   "execution_count": 44,
   "metadata": {},
   "outputs": [
    {
     "data": {
      "text/plain": [
       "array([[False, False, False,  True, False],\n",
       "       [ True, False,  True,  True,  True],\n",
       "       [ True,  True,  True,  True,  True]])"
      ]
     },
     "execution_count": 44,
     "metadata": {},
     "output_type": "execute_result"
    }
   ],
   "source": [
    "matrix_C[:, :]> 2"
   ]
  },
  {
   "cell_type": "markdown",
   "metadata": {},
   "source": [
    "## Multiple conditions"
   ]
  },
  {
   "cell_type": "code",
   "execution_count": 45,
   "metadata": {},
   "outputs": [
    {
     "data": {
      "text/plain": [
       "array([ 2,  3,  5,  6,  3,  7,  6, 31,  4,  3,  3])"
      ]
     },
     "execution_count": 45,
     "metadata": {},
     "output_type": "execute_result"
    }
   ],
   "source": [
    "matrix_C[(matrix_C[:, :]> 2) & (matrix_C[:,:] % 2 ==0)]\n",
    "\n",
    "matrix_C[(matrix_C[:, :]> 2) | (matrix_C[:,:] % 2 ==0)]"
   ]
  },
  {
   "cell_type": "markdown",
   "metadata": {},
   "source": [
    "## Dimensions and squeeze function:"
   ]
  },
  {
   "cell_type": "code",
   "execution_count": 46,
   "metadata": {},
   "outputs": [
    {
     "data": {
      "text/plain": [
       "array([[ 1,  1,  2,  3,  1],\n",
       "       [ 5,  1,  6,  3,  7],\n",
       "       [ 6, 31,  4,  3,  3]])"
      ]
     },
     "execution_count": 46,
     "metadata": {},
     "output_type": "execute_result"
    }
   ],
   "source": [
    "matrix_D = np.array([[1,1,2,3,1], [5,1,6,3,7], [6,31,4,3,3]])\n",
    "matrix_D"
   ]
  },
  {
   "cell_type": "code",
   "execution_count": 47,
   "metadata": {},
   "outputs": [
    {
     "data": {
      "text/plain": [
       "numpy.int32"
      ]
     },
     "execution_count": 47,
     "metadata": {},
     "output_type": "execute_result"
    }
   ],
   "source": [
    "type(matrix_D[0,0])"
   ]
  },
  {
   "cell_type": "code",
   "execution_count": 48,
   "metadata": {},
   "outputs": [
    {
     "data": {
      "text/plain": [
       "(array([1]), 1, array([[1]]))"
      ]
     },
     "execution_count": 48,
     "metadata": {},
     "output_type": "execute_result"
    }
   ],
   "source": [
    "matrix_D[0, :1], matrix_D[0,0], matrix_D[:1,:1]"
   ]
  },
  {
   "cell_type": "code",
   "execution_count": 49,
   "metadata": {},
   "outputs": [
    {
     "name": "stdout",
     "output_type": "stream",
     "text": [
      "1\n"
     ]
    }
   ],
   "source": [
    "print(matrix_D[:1,:1].squeeze())"
   ]
  },
  {
   "cell_type": "code",
   "execution_count": 50,
   "metadata": {},
   "outputs": [
    {
     "data": {
      "text/plain": [
       "array(1)"
      ]
     },
     "execution_count": 50,
     "metadata": {},
     "output_type": "execute_result"
    }
   ],
   "source": [
    "np.squeeze(matrix_D[:1,:1])"
   ]
  },
  {
   "cell_type": "code",
   "execution_count": 51,
   "metadata": {},
   "outputs": [
    {
     "data": {
      "text/plain": [
       "array([[1]])"
      ]
     },
     "execution_count": 51,
     "metadata": {},
     "output_type": "execute_result"
    }
   ],
   "source": [
    "matrix_D[:1,:1]"
   ]
  },
  {
   "cell_type": "code",
   "execution_count": 52,
   "metadata": {},
   "outputs": [
    {
     "name": "stdout",
     "output_type": "stream",
     "text": [
      "()\n",
      "()\n",
      "()\n"
     ]
    }
   ],
   "source": [
    "print(matrix_D[0,0].squeeze().shape)\n",
    "print(matrix_D[0,0:1].squeeze().shape)\n",
    "print(matrix_D[0:1,0:1].squeeze().shape)"
   ]
  },
  {
   "cell_type": "markdown",
   "metadata": {},
   "source": [
    "# Arrays of 0s and 1s:\n",
    "## Generating data with numpy\n",
    "### np.empty(), np.zeros(), np.ones(), np.full()\n"
   ]
  },
  {
   "cell_type": "code",
   "execution_count": 53,
   "metadata": {},
   "outputs": [
    {
     "data": {
      "text/plain": [
       "array([[0.000e+000, 0.000e+000, 0.000e+000, 0.000e+000],\n",
       "       [0.000e+000, 7.786e-321, 0.000e+000, 0.000e+000]])"
      ]
     },
     "execution_count": 53,
     "metadata": {},
     "output_type": "execute_result"
    }
   ],
   "source": [
    "np.empty(shape = (2,4))"
   ]
  },
  {
   "cell_type": "code",
   "execution_count": 54,
   "metadata": {},
   "outputs": [
    {
     "data": {
      "text/plain": [
       "array([[0, 0, 0],\n",
       "       [0, 0, 0]], dtype=int8)"
      ]
     },
     "execution_count": 54,
     "metadata": {},
     "output_type": "execute_result"
    }
   ],
   "source": [
    "np.zeros(shape = (2,3), dtype= 'int8')"
   ]
  },
  {
   "cell_type": "code",
   "execution_count": 55,
   "metadata": {},
   "outputs": [
    {
     "data": {
      "text/plain": [
       "array([[1, 1, 1],\n",
       "       [1, 1, 1]], dtype=int8)"
      ]
     },
     "execution_count": 55,
     "metadata": {},
     "output_type": "execute_result"
    }
   ],
   "source": [
    "np.ones(shape = (2,3), dtype = 'int8')"
   ]
  },
  {
   "cell_type": "code",
   "execution_count": 56,
   "metadata": {},
   "outputs": [
    {
     "data": {
      "text/plain": [
       "array([[10, 10, 10],\n",
       "       [10, 10, 10]])"
      ]
     },
     "execution_count": 56,
     "metadata": {},
     "output_type": "execute_result"
    }
   ],
   "source": [
    "np.full(shape = (2,3), fill_value=10)"
   ]
  },
  {
   "cell_type": "markdown",
   "metadata": {},
   "source": [
    "## _like functions"
   ]
  },
  {
   "cell_type": "code",
   "execution_count": 57,
   "metadata": {},
   "outputs": [],
   "source": [
    "matrix_A = np.array([[1,3,4,5,6], [21,3,54132,5326,6], [4124,5,325,36,6]])\n",
    "matrix_empty_like = np.empty_like(matrix_A)"
   ]
  },
  {
   "cell_type": "code",
   "execution_count": 58,
   "metadata": {},
   "outputs": [
    {
     "data": {
      "text/plain": [
       "array([[0, 0, 0, 0, 0],\n",
       "       [0, 0, 0, 0, 0],\n",
       "       [0, 0, 0, 0, 0]])"
      ]
     },
     "execution_count": 58,
     "metadata": {},
     "output_type": "execute_result"
    }
   ],
   "source": [
    "np.zeros_like(matrix_A)"
   ]
  },
  {
   "cell_type": "markdown",
   "metadata": {},
   "source": [
    "## np.arange()"
   ]
  },
  {
   "cell_type": "code",
   "execution_count": 59,
   "metadata": {},
   "outputs": [
    {
     "data": {
      "text/plain": [
       "array([0, 1, 2, 3, 4, 5, 6, 7, 8, 9], dtype=int8)"
      ]
     },
     "execution_count": 59,
     "metadata": {},
     "output_type": "execute_result"
    }
   ],
   "source": [
    "np.arange(  10, dtype='int8')"
   ]
  },
  {
   "cell_type": "code",
   "execution_count": 60,
   "metadata": {},
   "outputs": [
    {
     "data": {
      "text/plain": [
       "array([ 1,  3,  5,  7,  9, 11, 13, 15, 17, 19, 21, 23, 25, 27, 29])"
      ]
     },
     "execution_count": 60,
     "metadata": {},
     "output_type": "execute_result"
    }
   ],
   "source": [
    "np.arange( 1,30,2)"
   ]
  },
  {
   "cell_type": "markdown",
   "metadata": {},
   "source": [
    "## Random generators\n",
    "\n",
    "## Defining Random generators"
   ]
  },
  {
   "cell_type": "code",
   "execution_count": 61,
   "metadata": {},
   "outputs": [],
   "source": [
    "from numpy.random import Generator as gen\n",
    "from numpy.random import PCG64 as pcg"
   ]
  },
  {
   "cell_type": "code",
   "execution_count": 67,
   "metadata": {},
   "outputs": [
    {
     "data": {
      "text/plain": [
       "array([[ 1.59077303,  2.28243293,  1.81098674,  5.16174922, -0.06004539],\n",
       "       [ 0.47233481, -0.3998578 ,  4.19125476,  2.26476316, -4.35327281],\n",
       "       [ 3.96580322,  0.55714964,  0.34426579,  0.24264015, -0.94773689],\n",
       "       [ 5.37134498, -1.92952948,  1.85888679,  4.865816  ,  2.78215234],\n",
       "       [ 1.39928997, -2.50517452, -2.47874891,  4.89605251,  5.560839  ]])"
      ]
     },
     "execution_count": 67,
     "metadata": {},
     "output_type": "execute_result"
    }
   ],
   "source": [
    "array_RG = gen(pcg(seed = 365))\n",
    "array_RG.normal(loc=2, scale = 3, size=(5,5))"
   ]
  },
  {
   "cell_type": "code",
   "execution_count": 75,
   "metadata": {},
   "outputs": [
    {
     "data": {
      "text/plain": [
       "array([[24.06214621, 14.0348754 , 18.12425254, ..., 23.43537336,\n",
       "        14.90693356, 19.89266042],\n",
       "       [ 9.4960313 , 25.05017912, 14.21189162, ..., 19.72163188,\n",
       "        20.81191142, 18.71652209],\n",
       "       [ 8.54880838, 11.14000758, 18.81960317, ..., 12.21683312,\n",
       "        27.13563765, 15.33539125],\n",
       "       ...,\n",
       "       [19.98348081, 21.79221909, 10.56809376, ..., 25.98232552,\n",
       "        21.88166283, 26.93275104],\n",
       "       [24.21697183, 25.58698497, 15.18763551, ..., 22.7442619 ,\n",
       "        24.68869127, 17.73461285],\n",
       "       [20.01506103, 26.50584871, 19.34786968, ..., 19.62113836,\n",
       "        28.98262051, 20.38062053]])"
      ]
     },
     "execution_count": 75,
     "metadata": {},
     "output_type": "execute_result"
    }
   ],
   "source": [
    "array_RG.normal(loc=20, scale = 5, size=(50,50))"
   ]
  },
  {
   "cell_type": "markdown",
   "metadata": {},
   "source": [
    "## Generating arrays from know distributions:"
   ]
  },
  {
   "cell_type": "code",
   "execution_count": 63,
   "metadata": {},
   "outputs": [
    {
     "data": {
      "text/plain": [
       "array([[2, 0, 1, 1, 2],\n",
       "       [1, 1, 0, 1, 1],\n",
       "       [1, 2, 1, 1, 0],\n",
       "       [0, 1, 0, 2, 1],\n",
       "       [0, 1, 0, 0, 2]], dtype=int64)"
      ]
     },
     "execution_count": 63,
     "metadata": {},
     "output_type": "execute_result"
    }
   ],
   "source": [
    "array_RG = gen(pcg(seed = 365))\n",
    "array_RG.poisson(size = (5,5))"
   ]
  },
  {
   "cell_type": "code",
   "execution_count": 64,
   "metadata": {},
   "outputs": [
    {
     "data": {
      "text/plain": [
       "array([[11, 12, 12, 14, 13],\n",
       "       [ 9, 10, 11, 11,  8],\n",
       "       [11,  8, 10,  9, 14],\n",
       "       [ 7,  8,  9, 15, 15],\n",
       "       [13,  8,  8,  7,  9]], dtype=int64)"
      ]
     },
     "execution_count": 64,
     "metadata": {},
     "output_type": "execute_result"
    }
   ],
   "source": [
    "array_RG = gen(pcg(seed = 365))\n",
    "array_RG.poisson(lam = 10, size = (5,5))"
   ]
  },
  {
   "cell_type": "code",
   "execution_count": 65,
   "metadata": {},
   "outputs": [
    {
     "data": {
      "text/plain": [
       "3.96"
      ]
     },
     "execution_count": 65,
     "metadata": {},
     "output_type": "execute_result"
    }
   ],
   "source": [
    "# binomial dist \n",
    "\n",
    "array_RG = gen(pcg(seed = 365))\n",
    "array_RG.binomial(n=10, p = 0.4, size = (5,5)).mean()"
   ]
  },
  {
   "cell_type": "code",
   "execution_count": 66,
   "metadata": {},
   "outputs": [
    {
     "data": {
      "text/plain": [
       "7.973136661997539"
      ]
     },
     "execution_count": 66,
     "metadata": {},
     "output_type": "execute_result"
    }
   ],
   "source": [
    "# logistic dist \n",
    "\n",
    "array_RG = gen(pcg(seed = 365))\n",
    "array_RG.logistic(loc=2, scale = 0.5, size = (500,500)).max()"
   ]
  },
  {
   "cell_type": "markdown",
   "metadata": {},
   "source": [
    "Application of Random generators "
   ]
  },
  {
   "cell_type": "code",
   "execution_count": 78,
   "metadata": {},
   "outputs": [],
   "source": [
    "array_column_1 = array_RG.normal(loc = 2, scale = 3, size=(1000))\n",
    "array_column_2 = array_RG.normal(loc = 7, scale = 2, size=(1000))\n",
    "array_column_3 = array_RG.logistic(loc=11, scale = 3, size = (1000))\n",
    "array_column_4 = array_RG.exponential(scale = 4, size = (1000))\n",
    "array_column_5 = array_RG.geometric(p = 0.7,  size = (1000))"
   ]
  },
  {
   "cell_type": "code",
   "execution_count": 93,
   "metadata": {},
   "outputs": [
    {
     "data": {
      "text/plain": [
       "array([[ 1.19142572,  8.7418437 , -2.810037  ,  1.61176816,  1.        ],\n",
       "       [-1.78721876,  6.61345417,  5.92660855,  0.98157389,  1.        ],\n",
       "       [-0.0885151 ,  8.10574164, 11.7995461 ,  0.18739931,  1.        ],\n",
       "       ...,\n",
       "       [ 3.04527935,  9.63110717,  5.85965622,  4.75565529,  1.        ],\n",
       "       [ 4.90246549,  9.38293525, 11.05674991,  7.75355448,  1.        ],\n",
       "       [ 3.30747732,  5.1593447 , 10.4698943 ,  0.10248269,  1.        ]])"
      ]
     },
     "execution_count": 93,
     "metadata": {},
     "output_type": "execute_result"
    }
   ],
   "source": [
    "random_test_data  = np.array([array_column_1, array_column_2, array_column_3, array_column_4, array_column_5]).transpose()\n",
    "random_test_data"
   ]
  },
  {
   "cell_type": "code",
   "execution_count": 94,
   "metadata": {},
   "outputs": [],
   "source": [
    "np.savetxt('random-test-from-Numpy', random_test_data, fmt = '%s', delimiter=',')"
   ]
  },
  {
   "cell_type": "code",
   "execution_count": 95,
   "metadata": {},
   "outputs": [
    {
     "data": {
      "text/plain": [
       "array([[ 1.19142572,  8.7418437 , -2.810037  ,  1.61176816,  1.        ],\n",
       "       [-1.78721876,  6.61345417,  5.92660855,  0.98157389,  1.        ],\n",
       "       [-0.0885151 ,  8.10574164, 11.7995461 ,  0.18739931,  1.        ],\n",
       "       ...,\n",
       "       [ 3.04527935,  9.63110717,  5.85965622,  4.75565529,  1.        ],\n",
       "       [ 4.90246549,  9.38293525, 11.05674991,  7.75355448,  1.        ],\n",
       "       [ 3.30747732,  5.1593447 , 10.4698943 ,  0.10248269,  1.        ]])"
      ]
     },
     "execution_count": 95,
     "metadata": {},
     "output_type": "execute_result"
    }
   ],
   "source": [
    "np.genfromtxt('random-test-from-Numpy-', delimiter=',')"
   ]
  },
  {
   "cell_type": "code",
   "execution_count": 96,
   "metadata": {},
   "outputs": [
    {
     "data": {
      "text/plain": [
       "array([[-1, -1, -1],\n",
       "       [-1, -1, -1],\n",
       "       [-1, -1, -1]])"
      ]
     },
     "execution_count": 96,
     "metadata": {},
     "output_type": "execute_result"
    }
   ],
   "source": [
    "A = np.array([[1,2,3], [123,412,54], [2415,5,35]])\n",
    "-np.ones_like(A)"
   ]
  },
  {
   "cell_type": "markdown",
   "metadata": {},
   "source": [
    "Importing Data with Numpy\n",
    "\n",
    "np.loadtxt()  vs np.genfromtxt()"
   ]
  },
  {
   "cell_type": "code",
   "execution_count": 115,
   "metadata": {},
   "outputs": [
    {
     "data": {
      "text/plain": [
       "array([[ 1.19142572,  8.7418437 , -2.810037  ,  1.61176816,  1.        ],\n",
       "       [-1.78721876,  6.61345417,  5.92660855,  0.98157389,  1.        ],\n",
       "       [-0.0885151 ,  8.10574164, 11.7995461 ,  0.18739931,  1.        ],\n",
       "       ...,\n",
       "       [ 3.04527935,  9.63110717,  5.85965622,  4.75565529,  1.        ],\n",
       "       [ 4.90246549,  9.38293525, 11.05674991,  7.75355448,  1.        ],\n",
       "       [ 3.30747732,  5.1593447 , 10.4698943 ,  0.10248269,  1.        ]])"
      ]
     },
     "execution_count": 115,
     "metadata": {},
     "output_type": "execute_result"
    }
   ],
   "source": [
    "lending_co_data_numeric_1 = np.loadtxt('random-test-from-Numpy-', dtype='float', delimiter=',')\n",
    "lending_co_data_numeric_1"
   ]
  },
  {
   "cell_type": "code",
   "execution_count": 116,
   "metadata": {},
   "outputs": [
    {
     "data": {
      "text/plain": [
       "array([[ 1.19142572,  8.7418437 , -2.810037  ,  1.61176816,  1.        ],\n",
       "       [-1.78721876,  6.61345417,  5.92660855,  0.98157389,  1.        ],\n",
       "       [-0.0885151 ,  8.10574164, 11.7995461 ,  0.18739931,  1.        ],\n",
       "       ...,\n",
       "       [ 3.04527935,  9.63110717,  5.85965622,  4.75565529,  1.        ],\n",
       "       [ 4.90246549,  9.38293525, 11.05674991,  7.75355448,  1.        ],\n",
       "       [ 3.30747732,  5.1593447 , 10.4698943 ,  0.10248269,  1.        ]])"
      ]
     },
     "execution_count": 116,
     "metadata": {},
     "output_type": "execute_result"
    }
   ],
   "source": [
    "lending_co_data_numeric_2 = np.genfromtxt('random-test-from-Numpy-', dtype='float', delimiter=',')\n",
    "lending_co_data_numeric_2"
   ]
  },
  {
   "cell_type": "code",
   "execution_count": 118,
   "metadata": {},
   "outputs": [
    {
     "data": {
      "text/plain": [
       "True"
      ]
     },
     "execution_count": 118,
     "metadata": {},
     "output_type": "execute_result"
    }
   ],
   "source": [
    "np.array_equal(lending_co_data_numeric_2 ,  lending_co_data_numeric_1)"
   ]
  },
  {
   "cell_type": "code",
   "execution_count": 123,
   "metadata": {},
   "outputs": [
    {
     "data": {
      "text/plain": [
       "array(['LoanID,StringID,Product,CustomerGender,Location,Region,TotalPrice',\n",
       "       '1,id_1,Product B,Male,Location 2,Region 2,16600.0',\n",
       "       '2,id_2,Product B,Male,Location 3,,16600.0', ...,\n",
       "       '1041,id_1041,Product B,Male,Location 23,Region 4,16600.0',\n",
       "       '1042,id_1042,Product C,NotSpecified,Location 52,Region 6,15600.0',\n",
       "       '1043,id_1043,Product B,Female,Location 142,Region 6,16600.0'],\n",
       "      dtype='<U65')"
      ]
     },
     "execution_count": 123,
     "metadata": {},
     "output_type": "execute_result"
    }
   ],
   "source": [
    "lending_co_data_numeric_2_nan = np.genfromtxt('lending-co-LT.csv', delimiter=';', dtype = np.str)\n",
    "lending_co_data_numeric_2_nan"
   ]
  },
  {
   "cell_type": "markdown",
   "metadata": {},
   "source": [
    "Partial cleaning while importing"
   ]
  },
  {
   "cell_type": "code",
   "execution_count": 128,
   "metadata": {},
   "outputs": [
    {
     "data": {
      "text/plain": [
       "array(['2000,40,365,3061,4171,15041', '1000,40,365,2160,3280,15340',\n",
       "       '2000,40,365,3041,4241,15321', ..., '2000,40,365,4201,5001,16600',\n",
       "       '1000,40,365,2080,3320,15600', '2000,40,365,4601,4601,16600'],\n",
       "      dtype='<U30')"
      ]
     },
     "execution_count": 128,
     "metadata": {},
     "output_type": "execute_result"
    }
   ],
   "source": [
    "ending_co_data_numeric_2_numerical  = np.genfromtxt('Lending-Company-Numeric-Data.csv', delimiter=';', dtype = np.str, skip_header=1)\n",
    "ending_co_data_numeric_2_numerical"
   ]
  },
  {
   "cell_type": "code",
   "execution_count": 129,
   "metadata": {},
   "outputs": [
    {
     "data": {
      "text/plain": [
       "array(['2000,40,365,3121,4241,13621', '2000,40,365,3061,4171,15041',\n",
       "       '1000,40,365,2160,3280,15340', ..., '2000,40,365,4240,5440,16600',\n",
       "       '2000,40,365,4201,5001,16600', '1000,40,365,2080,3320,15600'],\n",
       "      dtype='<U30')"
      ]
     },
     "execution_count": 129,
     "metadata": {},
     "output_type": "execute_result"
    }
   ],
   "source": [
    "ending_co_data_numeric_2_numerical  = np.genfromtxt('Lending-Company-Numeric-Data.csv', delimiter=';', dtype = np.str, skip_footer=1)\n",
    "ending_co_data_numeric_2_numerical"
   ]
  },
  {
   "cell_type": "code",
   "execution_count": 134,
   "metadata": {},
   "outputs": [
    {
     "data": {
      "text/plain": [
       "array([['2000', '365', '4241'],\n",
       "       ['2000', '365', '4171'],\n",
       "       ['1000', '365', '3280'],\n",
       "       ...,\n",
       "       ['', '365', '5001'],\n",
       "       ['1000', '365', '3320'],\n",
       "       ['2000', '365', '4601']], dtype='<U5')"
      ]
     },
     "execution_count": 134,
     "metadata": {},
     "output_type": "execute_result"
    }
   ],
   "source": [
    "ending_co_data_numeric_2_numerical  = np.genfromtxt('Lending-Company-Numeric-Data-NAN.csv', delimiter=';', dtype = np.str, usecols=(0,2,4))\n",
    "ending_co_data_numeric_2_numerical"
   ]
  },
  {
   "cell_type": "code",
   "execution_count": 136,
   "metadata": {},
   "outputs": [
    {
     "data": {
      "text/plain": [
       "(array(['40', '40', '40', ..., '40', '40', '40'], dtype='<U5'),\n",
       " array(['365', '365', '365', ..., '365', '365', '365'], dtype='<U5'),\n",
       " array(['3121', '3061', '2160', ..., '4201', '2080', '4601'], dtype='<U5'))"
      ]
     },
     "execution_count": 136,
     "metadata": {},
     "output_type": "execute_result"
    }
   ],
   "source": [
    "lending_co_data_1, lending_co_data_2, lending_co_data_3   = np.genfromtxt('Lending-Company-Numeric-Data-NAN.csv', delimiter=';', dtype = np.str, usecols=(1,2,3), unpack=True)\n",
    "lending_co_data_1, lending_co_data_2, lending_co_data_3  "
   ]
  },
  {
   "cell_type": "markdown",
   "metadata": {},
   "source": [
    "# String vs Object vs Numbers"
   ]
  },
  {
   "cell_type": "code",
   "execution_count": 150,
   "metadata": {},
   "outputs": [
    {
     "name": "stdout",
     "output_type": "stream",
     "text": [
      "[b'LoanID,StringID,Product,CustomerGender,Location,Region,TotalPrice'\n",
      " b'1,id_1,Product B,Male,Location 2,Region 2,16600.0'\n",
      " b'2,id_2,Product B,Male,Location 3,,16600.0' ...\n",
      " b'1041,id_1041,Product B,Male,Location 23,Region 4,16600.0'\n",
      " b'1042,id_1042,Product C,NotSpecified,Location 52,Region 6,15600.0'\n",
      " b'1043,id_1043,Product B,Female,Location 142,Region 6,16600.0']\n"
     ]
    }
   ],
   "source": [
    "lending_co_lt = np.genfromtxt('lending-co-LT.csv', delimiter=', ', dtype = np.object)\n",
    "print(lending_co_lt)"
   ]
  },
  {
   "cell_type": "code",
   "execution_count": 153,
   "metadata": {},
   "outputs": [
    {
     "name": "stdout",
     "output_type": "stream",
     "text": [
      "['LoanID,StringID,Product,CustomerGender,Location,Region,TotalPrice'\n",
      " '1,id_1,Product B,Male,Location 2,Region 2,16600.0'\n",
      " '2,id_2,Product B,Male,Location 3,,16600.0' ...\n",
      " '1041,id_1041,Product B,Male,Location 23,Region 4,16600.0'\n",
      " '1042,id_1042,Product C,NotSpecified,Location 52,Region 6,15600.0'\n",
      " '1043,id_1043,Product B,Female,Location 142,Region 6,16600.0']\n"
     ]
    }
   ],
   "source": [
    "lending_co= np.genfromtxt('lending-Company-Saving.csv', delimiter=', ', dtype = np.str)\n",
    "print(lending_co)"
   ]
  },
  {
   "cell_type": "code",
   "execution_count": 154,
   "metadata": {},
   "outputs": [],
   "source": [
    "# to save file in a faster than csv we use this command\n",
    "np.save('lending-Company-Saving', lending_co)"
   ]
  },
  {
   "cell_type": "code",
   "execution_count": 156,
   "metadata": {},
   "outputs": [
    {
     "data": {
      "text/plain": [
       "array(['LoanID,StringID,Product,CustomerGender,Location,Region,TotalPrice',\n",
       "       '1,id_1,Product B,Male,Location 2,Region 2,16600.0',\n",
       "       '2,id_2,Product B,Male,Location 3,,16600.0', ...,\n",
       "       '1041,id_1041,Product B,Male,Location 23,Region 4,16600.0',\n",
       "       '1042,id_1042,Product C,NotSpecified,Location 52,Region 6,15600.0',\n",
       "       '1043,id_1043,Product B,Female,Location 142,Region 6,16600.0'],\n",
       "      dtype='<U65')"
      ]
     },
     "execution_count": 156,
     "metadata": {},
     "output_type": "execute_result"
    }
   ],
   "source": [
    "lending_data_save = np.load('lending-Company-Saving.npy')\n",
    "lending_data_save"
   ]
  },
  {
   "cell_type": "code",
   "execution_count": 157,
   "metadata": {},
   "outputs": [
    {
     "data": {
      "text/plain": [
       "True"
      ]
     },
     "execution_count": 157,
     "metadata": {},
     "output_type": "execute_result"
    }
   ],
   "source": [
    "np.array_equal(lending_data_save, lending_co)"
   ]
  },
  {
   "cell_type": "markdown",
   "metadata": {},
   "source": [
    "## np.savez function"
   ]
  },
  {
   "cell_type": "code",
   "execution_count": 159,
   "metadata": {},
   "outputs": [],
   "source": [
    "np.savez('lending-Company-Saving', lending_co,lending_data_save )"
   ]
  },
  {
   "cell_type": "code",
   "execution_count": 162,
   "metadata": {},
   "outputs": [
    {
     "data": {
      "text/plain": [
       "array(['LoanID,StringID,Product,CustomerGender,Location,Region,TotalPrice',\n",
       "       '1,id_1,Product B,Male,Location 2,Region 2,16600.0',\n",
       "       '2,id_2,Product B,Male,Location 3,,16600.0', ...,\n",
       "       '1041,id_1041,Product B,Male,Location 23,Region 4,16600.0',\n",
       "       '1042,id_1042,Product C,NotSpecified,Location 52,Region 6,15600.0',\n",
       "       '1043,id_1043,Product B,Female,Location 142,Region 6,16600.0'],\n",
       "      dtype='<U65')"
      ]
     },
     "execution_count": 162,
     "metadata": {},
     "output_type": "execute_result"
    }
   ],
   "source": [
    "lending_data_save = np.load('lending-Company-Saving.npz')\n",
    "lending_data_save['arr_0']"
   ]
  },
  {
   "cell_type": "markdown",
   "metadata": {},
   "source": [
    "### np.savetxt()"
   ]
  },
  {
   "cell_type": "code",
   "execution_count": 163,
   "metadata": {},
   "outputs": [
    {
     "name": "stdout",
     "output_type": "stream",
     "text": [
      "['LoanID,StringID,Product,CustomerGender,Location,Region,TotalPrice'\n",
      " '1,id_1,Product B,Male,Location 2,Region 2,16600.0'\n",
      " '2,id_2,Product B,Male,Location 3,,16600.0' ...\n",
      " '1041,id_1041,Product B,Male,Location 23,Region 4,16600.0'\n",
      " '1042,id_1042,Product C,NotSpecified,Location 52,Region 6,15600.0'\n",
      " '1043,id_1043,Product B,Female,Location 142,Region 6,16600.0']\n"
     ]
    }
   ],
   "source": [
    "lending_co= np.genfromtxt('lending-Company-Saving.csv', delimiter=', ', dtype = np.str)\n",
    "print(lending_co)"
   ]
  },
  {
   "cell_type": "code",
   "execution_count": 164,
   "metadata": {},
   "outputs": [],
   "source": [
    "np.savetxt('lending-Company-Saving.txt', lending_co, fmt = '%s', delimiter=',')\n",
    "\n",
    "lending_data_savetxt = np.genfromtxt('lending-Company-Saving.txt', \n",
    "                                        delimiter= ',',\n",
    "                                        dtype= np.str)\n",
    "                                        "
   ]
  },
  {
   "cell_type": "code",
   "execution_count": 166,
   "metadata": {},
   "outputs": [
    {
     "data": {
      "text/plain": [
       "False"
      ]
     },
     "execution_count": 166,
     "metadata": {},
     "output_type": "execute_result"
    }
   ],
   "source": [
    "lending_data_savetxt\n",
    "lending_data_save = np.load('lending-Company-Saving.npy')\n",
    "\n",
    "np.array_equal(lending_data_savetxt, lending_data_save)"
   ]
  },
  {
   "cell_type": "code",
   "execution_count": 5,
   "metadata": {},
   "outputs": [
    {
     "name": "stdout",
     "output_type": "stream",
     "text": [
      "Collecting autoviz\n",
      "  Using cached autoviz-0.0.85-py3-none-any.whl (46 kB)\n",
      "Requirement already satisfied: pandas in c:\\users\\hossa\\anaconda3\\envs\\titanic\\lib\\site-packages (from autoviz) (1.2.4)\n",
      "Requirement already satisfied: holoviews in c:\\users\\hossa\\anaconda3\\envs\\titanic\\lib\\site-packages (from autoviz) (1.14.6)\n",
      "Requirement already satisfied: scikit-learn in c:\\users\\hossa\\anaconda3\\envs\\titanic\\lib\\site-packages (from autoviz) (0.24.1)\n",
      "Requirement already satisfied: ipython in c:\\users\\hossa\\anaconda3\\envs\\titanic\\lib\\site-packages (from autoviz) (7.22.0)\n",
      "Requirement already satisfied: matplotlib in c:\\users\\hossa\\anaconda3\\envs\\titanic\\lib\\site-packages (from autoviz) (3.3.4)\n",
      "Requirement already satisfied: seaborn in c:\\users\\hossa\\anaconda3\\envs\\titanic\\lib\\site-packages (from autoviz) (0.11.1)\n",
      "Collecting wordcloud\n",
      "  Using cached wordcloud-1.8.1.tar.gz (220 kB)\n",
      "Requirement already satisfied: bokeh in c:\\users\\hossa\\anaconda3\\envs\\titanic\\lib\\site-packages (from autoviz) (2.4.1)\n",
      "Requirement already satisfied: xgboost in c:\\users\\hossa\\anaconda3\\envs\\titanic\\lib\\site-packages (from autoviz) (1.5.0)\n",
      "Requirement already satisfied: xlrd in c:\\users\\hossa\\anaconda3\\envs\\titanic\\lib\\site-packages (from autoviz) (2.0.1)\n",
      "Collecting hvplot\n",
      "  Using cached hvplot-0.7.3-py2.py3-none-any.whl (3.1 MB)\n",
      "Requirement already satisfied: jupyter in c:\\users\\hossa\\anaconda3\\envs\\titanic\\lib\\site-packages (from autoviz) (1.0.0)\n",
      "Requirement already satisfied: statsmodels in c:\\users\\hossa\\anaconda3\\envs\\titanic\\lib\\site-packages (from autoviz) (0.12.2)\n",
      "Requirement already satisfied: pillow>=7.1.0 in c:\\users\\hossa\\anaconda3\\envs\\titanic\\lib\\site-packages (from bokeh->autoviz) (8.2.0)\n",
      "Requirement already satisfied: PyYAML>=3.10 in c:\\users\\hossa\\anaconda3\\envs\\titanic\\lib\\site-packages (from bokeh->autoviz) (5.4.1)\n",
      "Requirement already satisfied: packaging>=16.8 in c:\\users\\hossa\\anaconda3\\envs\\titanic\\lib\\site-packages (from bokeh->autoviz) (20.9)\n",
      "Requirement already satisfied: tornado>=5.1 in c:\\users\\hossa\\anaconda3\\envs\\titanic\\lib\\site-packages (from bokeh->autoviz) (6.1)\n",
      "Requirement already satisfied: typing-extensions>=3.10.0 in c:\\users\\hossa\\anaconda3\\envs\\titanic\\lib\\site-packages (from bokeh->autoviz) (3.10.0.2)\n",
      "Requirement already satisfied: numpy>=1.11.3 in c:\\users\\hossa\\anaconda3\\envs\\titanic\\lib\\site-packages (from bokeh->autoviz) (1.19.5)\n",
      "Requirement already satisfied: Jinja2>=2.9 in c:\\users\\hossa\\anaconda3\\envs\\titanic\\lib\\site-packages (from bokeh->autoviz) (2.11.3)\n",
      "Requirement already satisfied: MarkupSafe>=0.23 in c:\\users\\hossa\\anaconda3\\envs\\titanic\\lib\\site-packages (from Jinja2>=2.9->bokeh->autoviz) (1.1.1)\n",
      "Requirement already satisfied: pyparsing>=2.0.2 in c:\\users\\hossa\\anaconda3\\envs\\titanic\\lib\\site-packages (from packaging>=16.8->bokeh->autoviz) (2.4.7)\n",
      "Requirement already satisfied: colorcet in c:\\users\\hossa\\anaconda3\\envs\\titanic\\lib\\site-packages (from holoviews->autoviz) (2.0.6)\n",
      "Requirement already satisfied: panel>=0.8.0 in c:\\users\\hossa\\anaconda3\\envs\\titanic\\lib\\site-packages (from holoviews->autoviz) (0.12.4)\n",
      "Requirement already satisfied: pyviz-comms>=0.7.4 in c:\\users\\hossa\\anaconda3\\envs\\titanic\\lib\\site-packages (from holoviews->autoviz) (2.1.0)\n",
      "Requirement already satisfied: param<2.0,>=1.9.3 in c:\\users\\hossa\\anaconda3\\envs\\titanic\\lib\\site-packages (from holoviews->autoviz) (1.12.0)\n",
      "Requirement already satisfied: pytz>=2017.3 in c:\\users\\hossa\\anaconda3\\envs\\titanic\\lib\\site-packages (from pandas->autoviz) (2021.1)\n",
      "Requirement already satisfied: python-dateutil>=2.7.3 in c:\\users\\hossa\\anaconda3\\envs\\titanic\\lib\\site-packages (from pandas->autoviz) (2.8.1)\n",
      "Requirement already satisfied: requests in c:\\users\\hossa\\anaconda3\\envs\\titanic\\lib\\site-packages (from panel>=0.8.0->holoviews->autoviz) (2.25.1)\n",
      "Requirement already satisfied: bleach in c:\\users\\hossa\\anaconda3\\envs\\titanic\\lib\\site-packages (from panel>=0.8.0->holoviews->autoviz) (3.3.0)\n",
      "Requirement already satisfied: markdown in c:\\users\\hossa\\anaconda3\\envs\\titanic\\lib\\site-packages (from panel>=0.8.0->holoviews->autoviz) (3.3.4)\n",
      "Requirement already satisfied: tqdm>=4.48.0 in c:\\users\\hossa\\anaconda3\\envs\\titanic\\lib\\site-packages (from panel>=0.8.0->holoviews->autoviz) (4.59.0)\n",
      "Requirement already satisfied: pyct>=0.4.4 in c:\\users\\hossa\\anaconda3\\envs\\titanic\\lib\\site-packages (from panel>=0.8.0->holoviews->autoviz) (0.4.8)\n",
      "Requirement already satisfied: six>=1.5 in c:\\users\\hossa\\anaconda3\\envs\\titanic\\lib\\site-packages (from python-dateutil>=2.7.3->pandas->autoviz) (1.15.0)\n",
      "Requirement already satisfied: webencodings in c:\\users\\hossa\\anaconda3\\envs\\titanic\\lib\\site-packages (from bleach->panel>=0.8.0->holoviews->autoviz) (0.5.1)\n",
      "Requirement already satisfied: pickleshare in c:\\users\\hossa\\anaconda3\\envs\\titanic\\lib\\site-packages (from ipython->autoviz) (0.7.5)\n",
      "Requirement already satisfied: colorama in c:\\users\\hossa\\anaconda3\\envs\\titanic\\lib\\site-packages (from ipython->autoviz) (0.4.4)\n",
      "Requirement already satisfied: decorator in c:\\users\\hossa\\anaconda3\\envs\\titanic\\lib\\site-packages (from ipython->autoviz) (5.0.6)\n",
      "Requirement already satisfied: prompt-toolkit!=3.0.0,!=3.0.1,<3.1.0,>=2.0.0 in c:\\users\\hossa\\anaconda3\\envs\\titanic\\lib\\site-packages (from ipython->autoviz) (3.0.17)\n",
      "Requirement already satisfied: jedi>=0.16 in c:\\users\\hossa\\anaconda3\\envs\\titanic\\lib\\site-packages (from ipython->autoviz) (0.17.2)\n",
      "Requirement already satisfied: setuptools>=18.5 in c:\\users\\hossa\\anaconda3\\envs\\titanic\\lib\\site-packages (from ipython->autoviz) (52.0.0.post20210125)\n",
      "Requirement already satisfied: backcall in c:\\users\\hossa\\anaconda3\\envs\\titanic\\lib\\site-packages (from ipython->autoviz) (0.2.0)\n",
      "Requirement already satisfied: pygments in c:\\users\\hossa\\anaconda3\\envs\\titanic\\lib\\site-packages (from ipython->autoviz) (2.8.1)\n",
      "Requirement already satisfied: traitlets>=4.2 in c:\\users\\hossa\\anaconda3\\envs\\titanic\\lib\\site-packages (from ipython->autoviz) (5.0.5)\n",
      "Requirement already satisfied: parso<0.8.0,>=0.7.0 in c:\\users\\hossa\\anaconda3\\envs\\titanic\\lib\\site-packages (from jedi>=0.16->ipython->autoviz) (0.7.0)\n",
      "Requirement already satisfied: wcwidth in c:\\users\\hossa\\anaconda3\\envs\\titanic\\lib\\site-packages (from prompt-toolkit!=3.0.0,!=3.0.1,<3.1.0,>=2.0.0->ipython->autoviz) (0.2.5)\n",
      "Requirement already satisfied: ipython-genutils in c:\\users\\hossa\\anaconda3\\envs\\titanic\\lib\\site-packages (from traitlets>=4.2->ipython->autoviz) (0.2.0)\n",
      "Requirement already satisfied: ipykernel in c:\\users\\hossa\\anaconda3\\envs\\titanic\\lib\\site-packages (from jupyter->autoviz) (5.3.4)\n",
      "Requirement already satisfied: notebook in c:\\users\\hossa\\anaconda3\\envs\\titanic\\lib\\site-packages (from jupyter->autoviz) (6.3.0)\n",
      "Requirement already satisfied: jupyter-console in c:\\users\\hossa\\anaconda3\\envs\\titanic\\lib\\site-packages (from jupyter->autoviz) (6.4.0)\n",
      "Requirement already satisfied: ipywidgets in c:\\users\\hossa\\anaconda3\\envs\\titanic\\lib\\site-packages (from jupyter->autoviz) (7.6.3)\n",
      "Requirement already satisfied: nbconvert in c:\\users\\hossa\\anaconda3\\envs\\titanic\\lib\\site-packages (from jupyter->autoviz) (6.0.7)\n",
      "Requirement already satisfied: qtconsole in c:\\users\\hossa\\anaconda3\\envs\\titanic\\lib\\site-packages (from jupyter->autoviz) (5.0.3)\n",
      "Requirement already satisfied: jupyter-client in c:\\users\\hossa\\anaconda3\\envs\\titanic\\lib\\site-packages (from ipykernel->jupyter->autoviz) (6.1.12)\n",
      "Requirement already satisfied: jupyterlab-widgets>=1.0.0 in c:\\users\\hossa\\anaconda3\\envs\\titanic\\lib\\site-packages (from ipywidgets->jupyter->autoviz) (1.0.0)\n",
      "Requirement already satisfied: nbformat>=4.2.0 in c:\\users\\hossa\\anaconda3\\envs\\titanic\\lib\\site-packages (from ipywidgets->jupyter->autoviz) (5.1.3)\n",
      "Requirement already satisfied: widgetsnbextension~=3.5.0 in c:\\users\\hossa\\anaconda3\\envs\\titanic\\lib\\site-packages (from ipywidgets->jupyter->autoviz) (3.5.1)\n",
      "Requirement already satisfied: jsonschema!=2.5.0,>=2.4 in c:\\users\\hossa\\anaconda3\\envs\\titanic\\lib\\site-packages (from nbformat>=4.2.0->ipywidgets->jupyter->autoviz) (3.2.0)\n",
      "Requirement already satisfied: jupyter-core in c:\\users\\hossa\\anaconda3\\envs\\titanic\\lib\\site-packages (from nbformat>=4.2.0->ipywidgets->jupyter->autoviz) (4.7.1)\n",
      "Requirement already satisfied: attrs>=17.4.0 in c:\\users\\hossa\\anaconda3\\envs\\titanic\\lib\\site-packages (from jsonschema!=2.5.0,>=2.4->nbformat>=4.2.0->ipywidgets->jupyter->autoviz) (20.3.0)\n",
      "Requirement already satisfied: pyrsistent>=0.14.0 in c:\\users\\hossa\\anaconda3\\envs\\titanic\\lib\\site-packages (from jsonschema!=2.5.0,>=2.4->nbformat>=4.2.0->ipywidgets->jupyter->autoviz) (0.17.3)\n",
      "Requirement already satisfied: Send2Trash>=1.5.0 in c:\\users\\hossa\\anaconda3\\envs\\titanic\\lib\\site-packages (from notebook->jupyter->autoviz) (1.5.0)\n",
      "Requirement already satisfied: argon2-cffi in c:\\users\\hossa\\anaconda3\\envs\\titanic\\lib\\site-packages (from notebook->jupyter->autoviz) (20.1.0)\n",
      "Requirement already satisfied: prometheus-client in c:\\users\\hossa\\anaconda3\\envs\\titanic\\lib\\site-packages (from notebook->jupyter->autoviz) (0.10.1)\n",
      "Requirement already satisfied: terminado>=0.8.3 in c:\\users\\hossa\\anaconda3\\envs\\titanic\\lib\\site-packages (from notebook->jupyter->autoviz) (0.9.4)\n",
      "Requirement already satisfied: pyzmq>=17 in c:\\users\\hossa\\anaconda3\\envs\\titanic\\lib\\site-packages (from notebook->jupyter->autoviz) (20.0.0)\n",
      "Requirement already satisfied: pywin32>=1.0 in c:\\users\\hossa\\anaconda3\\envs\\titanic\\lib\\site-packages (from jupyter-core->nbformat>=4.2.0->ipywidgets->jupyter->autoviz) (228)\n",
      "Requirement already satisfied: pywinpty>=0.5 in c:\\users\\hossa\\anaconda3\\envs\\titanic\\lib\\site-packages (from terminado>=0.8.3->notebook->jupyter->autoviz) (0.5.7)\n",
      "Requirement already satisfied: cffi>=1.0.0 in c:\\users\\hossa\\anaconda3\\envs\\titanic\\lib\\site-packages (from argon2-cffi->notebook->jupyter->autoviz) (1.14.5)\n",
      "Requirement already satisfied: pycparser in c:\\users\\hossa\\anaconda3\\envs\\titanic\\lib\\site-packages (from cffi>=1.0.0->argon2-cffi->notebook->jupyter->autoviz) (2.20)\n",
      "Requirement already satisfied: kiwisolver>=1.0.1 in c:\\users\\hossa\\anaconda3\\envs\\titanic\\lib\\site-packages (from matplotlib->autoviz) (1.3.1)\n",
      "Requirement already satisfied: cycler>=0.10 in c:\\users\\hossa\\anaconda3\\envs\\titanic\\lib\\site-packages (from matplotlib->autoviz) (0.10.0)\n",
      "Requirement already satisfied: pandocfilters>=1.4.1 in c:\\users\\hossa\\anaconda3\\envs\\titanic\\lib\\site-packages (from nbconvert->jupyter->autoviz) (1.4.3)\n",
      "Requirement already satisfied: defusedxml in c:\\users\\hossa\\anaconda3\\envs\\titanic\\lib\\site-packages (from nbconvert->jupyter->autoviz) (0.7.1)\n",
      "Requirement already satisfied: jupyterlab-pygments in c:\\users\\hossa\\anaconda3\\envs\\titanic\\lib\\site-packages (from nbconvert->jupyter->autoviz) (0.1.2)\n",
      "Requirement already satisfied: nbclient<0.6.0,>=0.5.0 in c:\\users\\hossa\\anaconda3\\envs\\titanic\\lib\\site-packages (from nbconvert->jupyter->autoviz) (0.5.3)\n",
      "Requirement already satisfied: mistune<2,>=0.8.1 in c:\\users\\hossa\\anaconda3\\envs\\titanic\\lib\\site-packages (from nbconvert->jupyter->autoviz) (0.8.4)\n",
      "Requirement already satisfied: entrypoints>=0.2.2 in c:\\users\\hossa\\anaconda3\\envs\\titanic\\lib\\site-packages (from nbconvert->jupyter->autoviz) (0.3)\n",
      "Requirement already satisfied: testpath in c:\\users\\hossa\\anaconda3\\envs\\titanic\\lib\\site-packages (from nbconvert->jupyter->autoviz) (0.4.4)\n",
      "Requirement already satisfied: nest-asyncio in c:\\users\\hossa\\anaconda3\\envs\\titanic\\lib\\site-packages (from nbclient<0.6.0,>=0.5.0->nbconvert->jupyter->autoviz) (1.5.1)\n",
      "Requirement already satisfied: async-generator in c:\\users\\hossa\\anaconda3\\envs\\titanic\\lib\\site-packages (from nbclient<0.6.0,>=0.5.0->nbconvert->jupyter->autoviz) (1.10)\n",
      "Requirement already satisfied: qtpy in c:\\users\\hossa\\anaconda3\\envs\\titanic\\lib\\site-packages (from qtconsole->jupyter->autoviz) (1.9.0)\n",
      "Requirement already satisfied: idna<3,>=2.5 in c:\\users\\hossa\\anaconda3\\envs\\titanic\\lib\\site-packages (from requests->panel>=0.8.0->holoviews->autoviz) (2.10)\n",
      "Requirement already satisfied: chardet<5,>=3.0.2 in c:\\users\\hossa\\anaconda3\\envs\\titanic\\lib\\site-packages (from requests->panel>=0.8.0->holoviews->autoviz) (4.0.0)\n",
      "Requirement already satisfied: certifi>=2017.4.17 in c:\\users\\hossa\\anaconda3\\envs\\titanic\\lib\\site-packages (from requests->panel>=0.8.0->holoviews->autoviz) (2020.12.5)\n",
      "Requirement already satisfied: urllib3<1.27,>=1.21.1 in c:\\users\\hossa\\anaconda3\\envs\\titanic\\lib\\site-packages (from requests->panel>=0.8.0->holoviews->autoviz) (1.26.4)\n",
      "Requirement already satisfied: threadpoolctl>=2.0.0 in c:\\users\\hossa\\anaconda3\\envs\\titanic\\lib\\site-packages (from scikit-learn->autoviz) (2.1.0)\n",
      "Requirement already satisfied: scipy>=0.19.1 in c:\\users\\hossa\\anaconda3\\envs\\titanic\\lib\\site-packages (from scikit-learn->autoviz) (1.6.2)\n",
      "Requirement already satisfied: joblib>=0.11 in c:\\users\\hossa\\anaconda3\\envs\\titanic\\lib\\site-packages (from scikit-learn->autoviz) (1.0.1)\n",
      "Requirement already satisfied: patsy>=0.5 in c:\\users\\hossa\\anaconda3\\envs\\titanic\\lib\\site-packages (from statsmodels->autoviz) (0.5.1)\n",
      "Building wheels for collected packages: wordcloud\n",
      "  Building wheel for wordcloud (setup.py): started\n",
      "  Building wheel for wordcloud (setup.py): finished with status 'error'\n",
      "  Running setup.py clean for wordcloud\n",
      "Failed to build wordcloud\n",
      "Installing collected packages: wordcloud, hvplot, autoviz\n",
      "    Running setup.py install for wordcloud: started\n",
      "    Running setup.py install for wordcloud: finished with status 'error'\n"
     ]
    },
    {
     "name": "stderr",
     "output_type": "stream",
     "text": [
      "  ERROR: Command errored out with exit status 1:\n",
      "   command: 'C:\\Users\\hossa\\anaconda3\\envs\\titanic\\python.exe' -u -c 'import sys, setuptools, tokenize; sys.argv[0] = '\"'\"'C:\\\\Users\\\\hossa\\\\AppData\\\\Local\\\\Temp\\\\pip-install-1cor33ai\\\\wordcloud_b935c7f1b6c84656b5786deb74c1f99c\\\\setup.py'\"'\"'; __file__='\"'\"'C:\\\\Users\\\\hossa\\\\AppData\\\\Local\\\\Temp\\\\pip-install-1cor33ai\\\\wordcloud_b935c7f1b6c84656b5786deb74c1f99c\\\\setup.py'\"'\"';f=getattr(tokenize, '\"'\"'open'\"'\"', open)(__file__);code=f.read().replace('\"'\"'\\r\\n'\"'\"', '\"'\"'\\n'\"'\"');f.close();exec(compile(code, __file__, '\"'\"'exec'\"'\"'))' bdist_wheel -d 'C:\\Users\\hossa\\AppData\\Local\\Temp\\pip-wheel-ynaf08rx'\n",
      "       cwd: C:\\Users\\hossa\\AppData\\Local\\Temp\\pip-install-1cor33ai\\wordcloud_b935c7f1b6c84656b5786deb74c1f99c\\\n",
      "  Complete output (20 lines):\n",
      "  running bdist_wheel\n",
      "  running build\n",
      "  running build_py\n",
      "  creating build\n",
      "  creating build\\lib.win-amd64-3.9\n",
      "  creating build\\lib.win-amd64-3.9\\wordcloud\n",
      "  copying wordcloud\\color_from_image.py -> build\\lib.win-amd64-3.9\\wordcloud\n",
      "  copying wordcloud\\tokenization.py -> build\\lib.win-amd64-3.9\\wordcloud\n",
      "  copying wordcloud\\wordcloud.py -> build\\lib.win-amd64-3.9\\wordcloud\n",
      "  copying wordcloud\\wordcloud_cli.py -> build\\lib.win-amd64-3.9\\wordcloud\n",
      "  copying wordcloud\\_version.py -> build\\lib.win-amd64-3.9\\wordcloud\n",
      "  copying wordcloud\\__init__.py -> build\\lib.win-amd64-3.9\\wordcloud\n",
      "  copying wordcloud\\__main__.py -> build\\lib.win-amd64-3.9\\wordcloud\n",
      "  copying wordcloud\\stopwords -> build\\lib.win-amd64-3.9\\wordcloud\n",
      "  copying wordcloud\\DroidSansMono.ttf -> build\\lib.win-amd64-3.9\\wordcloud\n",
      "  UPDATING build\\lib.win-amd64-3.9\\wordcloud/_version.py\n",
      "  set build\\lib.win-amd64-3.9\\wordcloud/_version.py to '1.8.1'\n",
      "  running build_ext\n",
      "  building 'wordcloud.query_integral_image' extension\n",
      "  error: Microsoft Visual C++ 14.0 or greater is required. Get it with \"Microsoft C++ Build Tools\": https://visualstudio.microsoft.com/visual-cpp-build-tools/\n",
      "  ----------------------------------------\n",
      "  ERROR: Failed building wheel for wordcloud\n",
      "    ERROR: Command errored out with exit status 1:\n",
      "     command: 'C:\\Users\\hossa\\anaconda3\\envs\\titanic\\python.exe' -u -c 'import sys, setuptools, tokenize; sys.argv[0] = '\"'\"'C:\\\\Users\\\\hossa\\\\AppData\\\\Local\\\\Temp\\\\pip-install-1cor33ai\\\\wordcloud_b935c7f1b6c84656b5786deb74c1f99c\\\\setup.py'\"'\"'; __file__='\"'\"'C:\\\\Users\\\\hossa\\\\AppData\\\\Local\\\\Temp\\\\pip-install-1cor33ai\\\\wordcloud_b935c7f1b6c84656b5786deb74c1f99c\\\\setup.py'\"'\"';f=getattr(tokenize, '\"'\"'open'\"'\"', open)(__file__);code=f.read().replace('\"'\"'\\r\\n'\"'\"', '\"'\"'\\n'\"'\"');f.close();exec(compile(code, __file__, '\"'\"'exec'\"'\"'))' install --record 'C:\\Users\\hossa\\AppData\\Local\\Temp\\pip-record-qyfh1ie7\\install-record.txt' --single-version-externally-managed --compile --install-headers 'C:\\Users\\hossa\\anaconda3\\envs\\titanic\\Include\\wordcloud'\n",
      "         cwd: C:\\Users\\hossa\\AppData\\Local\\Temp\\pip-install-1cor33ai\\wordcloud_b935c7f1b6c84656b5786deb74c1f99c\\\n",
      "    Complete output (20 lines):\n",
      "    running install\n",
      "    running build\n",
      "    running build_py\n",
      "    creating build\n",
      "    creating build\\lib.win-amd64-3.9\n",
      "    creating build\\lib.win-amd64-3.9\\wordcloud\n",
      "    copying wordcloud\\color_from_image.py -> build\\lib.win-amd64-3.9\\wordcloud\n",
      "    copying wordcloud\\tokenization.py -> build\\lib.win-amd64-3.9\\wordcloud\n",
      "    copying wordcloud\\wordcloud.py -> build\\lib.win-amd64-3.9\\wordcloud\n",
      "    copying wordcloud\\wordcloud_cli.py -> build\\lib.win-amd64-3.9\\wordcloud\n",
      "    copying wordcloud\\_version.py -> build\\lib.win-amd64-3.9\\wordcloud\n",
      "    copying wordcloud\\__init__.py -> build\\lib.win-amd64-3.9\\wordcloud\n",
      "    copying wordcloud\\__main__.py -> build\\lib.win-amd64-3.9\\wordcloud\n",
      "    copying wordcloud\\stopwords -> build\\lib.win-amd64-3.9\\wordcloud\n",
      "    copying wordcloud\\DroidSansMono.ttf -> build\\lib.win-amd64-3.9\\wordcloud\n",
      "    UPDATING build\\lib.win-amd64-3.9\\wordcloud/_version.py\n",
      "    set build\\lib.win-amd64-3.9\\wordcloud/_version.py to '1.8.1'\n",
      "    running build_ext\n",
      "    building 'wordcloud.query_integral_image' extension\n",
      "    error: Microsoft Visual C++ 14.0 or greater is required. Get it with \"Microsoft C++ Build Tools\": https://visualstudio.microsoft.com/visual-cpp-build-tools/\n",
      "    ----------------------------------------\n",
      "ERROR: Command errored out with exit status 1: 'C:\\Users\\hossa\\anaconda3\\envs\\titanic\\python.exe' -u -c 'import sys, setuptools, tokenize; sys.argv[0] = '\"'\"'C:\\\\Users\\\\hossa\\\\AppData\\\\Local\\\\Temp\\\\pip-install-1cor33ai\\\\wordcloud_b935c7f1b6c84656b5786deb74c1f99c\\\\setup.py'\"'\"'; __file__='\"'\"'C:\\\\Users\\\\hossa\\\\AppData\\\\Local\\\\Temp\\\\pip-install-1cor33ai\\\\wordcloud_b935c7f1b6c84656b5786deb74c1f99c\\\\setup.py'\"'\"';f=getattr(tokenize, '\"'\"'open'\"'\"', open)(__file__);code=f.read().replace('\"'\"'\\r\\n'\"'\"', '\"'\"'\\n'\"'\"');f.close();exec(compile(code, __file__, '\"'\"'exec'\"'\"'))' install --record 'C:\\Users\\hossa\\AppData\\Local\\Temp\\pip-record-qyfh1ie7\\install-record.txt' --single-version-externally-managed --compile --install-headers 'C:\\Users\\hossa\\anaconda3\\envs\\titanic\\Include\\wordcloud' Check the logs for full command output.\n"
     ]
    },
    {
     "ename": "ModuleNotFoundError",
     "evalue": "No module named 'autoviz'",
     "output_type": "error",
     "traceback": [
      "\u001b[1;31m---------------------------------------------------------------------------\u001b[0m",
      "\u001b[1;31mModuleNotFoundError\u001b[0m                       Traceback (most recent call last)",
      "\u001b[1;32m<ipython-input-5-4425b4131b20>\u001b[0m in \u001b[0;36m<module>\u001b[1;34m\u001b[0m\n\u001b[0;32m      1\u001b[0m \u001b[0mget_ipython\u001b[0m\u001b[1;33m(\u001b[0m\u001b[1;33m)\u001b[0m\u001b[1;33m.\u001b[0m\u001b[0msystem\u001b[0m\u001b[1;33m(\u001b[0m\u001b[1;34m'pip install autoviz'\u001b[0m\u001b[1;33m)\u001b[0m\u001b[1;33m\u001b[0m\u001b[1;33m\u001b[0m\u001b[0m\n\u001b[1;32m----> 2\u001b[1;33m \u001b[1;32mfrom\u001b[0m \u001b[0mautoviz\u001b[0m\u001b[1;33m.\u001b[0m\u001b[0mAutoViz_Class\u001b[0m \u001b[1;32mimport\u001b[0m \u001b[0mAutoViz_Class\u001b[0m\u001b[1;33m\u001b[0m\u001b[1;33m\u001b[0m\u001b[0m\n\u001b[0m\u001b[0;32m      3\u001b[0m \u001b[1;33m\u001b[0m\u001b[0m\n\u001b[0;32m      4\u001b[0m \u001b[1;31m# AV = AutoViz_Class()\u001b[0m\u001b[1;33m\u001b[0m\u001b[1;33m\u001b[0m\u001b[1;33m\u001b[0m\u001b[0m\n\u001b[0;32m      5\u001b[0m \u001b[1;31m# df = AV.AutoViz('./data/train.csv', depVar='Survived')\u001b[0m\u001b[1;33m\u001b[0m\u001b[1;33m\u001b[0m\u001b[1;33m\u001b[0m\u001b[0m\n",
      "\u001b[1;31mModuleNotFoundError\u001b[0m: No module named 'autoviz'"
     ]
    }
   ],
   "source": [
    "!pip install autoviz\n",
    "from autoviz.AutoViz_Class import AutoViz_Class\n",
    "\n",
    "# AV = AutoViz_Class()\n",
    "# df = AV.AutoViz('./data/train.csv', depVar='Survived')"
   ]
  },
  {
   "cell_type": "code",
   "execution_count": null,
   "metadata": {},
   "outputs": [],
   "source": []
  }
 ],
 "metadata": {
  "interpreter": {
   "hash": "f93d7e7253783c800e0f94590aa19dcdd806f5c881d5974e3aaccd3578f80f57"
  },
  "kernelspec": {
   "display_name": "Python 3.9.4 64-bit ('titanic': conda)",
   "name": "python3"
  },
  "language_info": {
   "codemirror_mode": {
    "name": "ipython",
    "version": 3
   },
   "file_extension": ".py",
   "mimetype": "text/x-python",
   "name": "python",
   "nbconvert_exporter": "python",
   "pygments_lexer": "ipython3",
   "version": "3.9.4"
  },
  "orig_nbformat": 4
 },
 "nbformat": 4,
 "nbformat_minor": 2
}
